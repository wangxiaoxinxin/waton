{
 "cells": [
  {
   "cell_type": "markdown",
   "id": "8448dcff-ac17-4fad-b28b-61759e77bd97",
   "metadata": {
    "tags": []
   },
   "source": [
    "# My Jupyter Notebook on IBM Watson Studio"
   ]
  },
  {
   "cell_type": "markdown",
   "id": "026e6c36-34d7-40c4-be94-d550da6b8c02",
   "metadata": {},
   "source": [
    "**Ji Wang**\n",
    "\n",
    "Data Scientist"
   ]
  },
  {
   "cell_type": "markdown",
   "id": "93c51895-7e59-4e4c-8f51-80ff8dd2e476",
   "metadata": {},
   "source": [
    "_I am interested in data science because I get a lot of satisfaction from it_"
   ]
  },
  {
   "cell_type": "markdown",
   "id": "08f5f09c-6855-4d61-8238-7e66547e1112",
   "metadata": {},
   "source": [
    "### The following code test data square"
   ]
  },
  {
   "cell_type": "code",
   "execution_count": 1,
   "id": "934019d1-dacc-4516-b8a2-1a7067acbaa3",
   "metadata": {},
   "outputs": [
    {
     "name": "stdout",
     "output_type": "stream",
     "text": [
      "4\n"
     ]
    }
   ],
   "source": [
    "def square_data(x):\n",
    "    return x*x\n",
    "print(square_data(2))"
   ]
  },
  {
   "cell_type": "markdown",
   "id": "fd81bfa1-3eac-460e-ae9c-d3cf966eb955",
   "metadata": {},
   "source": [
    "***\n",
    "Web : www.ibm.com\n",
    "\n",
    "highlighting: `hightlight text`\n"
   ]
  }
 ],
 "metadata": {
  "kernelspec": {
   "display_name": "Python 3 (ipykernel)",
   "language": "python",
   "name": "python3"
  },
  "language_info": {
   "codemirror_mode": {
    "name": "ipython",
    "version": 3
   },
   "file_extension": ".py",
   "mimetype": "text/x-python",
   "name": "python",
   "nbconvert_exporter": "python",
   "pygments_lexer": "ipython3",
   "version": "3.7.6"
  }
 },
 "nbformat": 4,
 "nbformat_minor": 5
}
